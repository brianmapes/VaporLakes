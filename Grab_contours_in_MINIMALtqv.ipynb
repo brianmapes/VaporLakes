{
 "cells": [
  {
   "cell_type": "code",
   "execution_count": 1,
   "id": "structural-committee",
   "metadata": {},
   "outputs": [
    {
     "name": "stdout",
     "output_type": "stream",
     "text": [
      "Wed Oct 25 14:44:14 EDT 2023\n"
     ]
    }
   ],
   "source": [
    "!date"
   ]
  },
  {
   "cell_type": "markdown",
   "id": "spectacular-polls",
   "metadata": {},
   "source": [
    "# Grab lake contours bigger than 5 degrees - no time tracking\n",
    "## Make distance and direction field, lake by lake (that is, time by time)\n",
    "#### from all available datafiles with a couple hundred hours in them\n",
    "#### resulting filenames end in distance.nc"
   ]
  },
  {
   "cell_type": "markdown",
   "id": "occupied-error",
   "metadata": {},
   "source": [
    "------------\n"
   ]
  },
  {
   "cell_type": "code",
   "execution_count": 2,
   "id": "1e5fddf2-ed30-4e2b-9a0a-d52ae75ced24",
   "metadata": {},
   "outputs": [],
   "source": [
    "from shapely import geometry\n",
    "import matplotlib.pyplot as plt\n",
    "from matplotlib import cm\n",
    "import numpy as np\n",
    "import fiona             # a read-write library for shapefiles\n",
    "import os         \n",
    "#from descartes.patch import PolygonPatch\n",
    "\n",
    "from shapely.geometry import Point\n",
    "import pyproj\n",
    "geodesic = pyproj.Geod(ellps='WGS84')\n",
    "\n",
    "from glob import glob\n",
    "import xarray as xr\n",
    "#import dask.array as da\n",
    "\n",
    "import pandas as pd\n",
    "import geopandas as gp\n",
    "from datetime import datetime"
   ]
  },
  {
   "cell_type": "code",
   "execution_count": 3,
   "id": "e5d4fa78-a41a-4a60-a5fe-e54bd20c042f",
   "metadata": {},
   "outputs": [],
   "source": [
    "files = glob('/Users/brianmapes/Box/VaporLakes/data/LAKEBYLAKE/MERRA2_2D/MINIMAL/*distance.nc')"
   ]
  },
  {
   "cell_type": "code",
   "execution_count": 4,
   "id": "a050412a-9c1e-4ffc-97ca-e29926dcbd0c",
   "metadata": {
    "collapsed": true,
    "jupyter": {
     "outputs_hidden": true
    },
    "tags": []
   },
   "outputs": [
    {
     "name": "stdout",
     "output_type": "stream",
     "text": [
      "/Users/brianmapes/Box/VaporLakes/data/LAKEBYLAKE/MERRA2_2D/MINIMAL/2015_03_21_09_lat5p130N.M2_min2D_distance.nc\n",
      "/Users/brianmapes/Box/VaporLakes/data/LAKEBYLAKE/MERRA2_2D/MINIMAL//TIMELEVELS/2015_03_21_09/\n",
      "/Users/brianmapes/Box/VaporLakes/data/LAKEBYLAKE/MERRA2_2D/MINIMAL/2017_05_06_18_lat1p979S.M2_min2D_distance.nc\n",
      "/Users/brianmapes/Box/VaporLakes/data/LAKEBYLAKE/MERRA2_2D/MINIMAL//TIMELEVELS/2017_05_06_18/\n",
      "/Users/brianmapes/Box/VaporLakes/data/LAKEBYLAKE/MERRA2_2D/MINIMAL/2015_04_30_02_lat0p276N.M2_min2D_distance.nc\n",
      "/Users/brianmapes/Box/VaporLakes/data/LAKEBYLAKE/MERRA2_2D/MINIMAL//TIMELEVELS/2015_04_30_02/\n",
      "/Users/brianmapes/Box/VaporLakes/data/LAKEBYLAKE/MERRA2_2D/MINIMAL/2014_05_11_18_lat2p131S.M2_min2D_distance.nc\n",
      "/Users/brianmapes/Box/VaporLakes/data/LAKEBYLAKE/MERRA2_2D/MINIMAL//TIMELEVELS/2014_05_11_18/\n",
      "/Users/brianmapes/Box/VaporLakes/data/LAKEBYLAKE/MERRA2_2D/MINIMAL/2018_03_19_12_lat9p318S.M2_min2D_distance.nc\n",
      "/Users/brianmapes/Box/VaporLakes/data/LAKEBYLAKE/MERRA2_2D/MINIMAL//TIMELEVELS/2018_03_19_12/\n",
      "/Users/brianmapes/Box/VaporLakes/data/LAKEBYLAKE/MERRA2_2D/MINIMAL/2014_04_17_06_lat6p223S.M2_min2D_distance.nc\n",
      "/Users/brianmapes/Box/VaporLakes/data/LAKEBYLAKE/MERRA2_2D/MINIMAL//TIMELEVELS/2014_04_17_06/\n",
      "/Users/brianmapes/Box/VaporLakes/data/LAKEBYLAKE/MERRA2_2D/MINIMAL/2017_05_06_20_lat0p918N.M2_min2D_distance.nc\n",
      "/Users/brianmapes/Box/VaporLakes/data/LAKEBYLAKE/MERRA2_2D/MINIMAL//TIMELEVELS/2017_05_06_20/\n",
      "/Users/brianmapes/Box/VaporLakes/data/LAKEBYLAKE/MERRA2_2D/MINIMAL/2014_05_11_15_lat4p404N.M2_min2D_distance.nc\n",
      "/Users/brianmapes/Box/VaporLakes/data/LAKEBYLAKE/MERRA2_2D/MINIMAL//TIMELEVELS/2014_05_11_15/\n",
      "/Users/brianmapes/Box/VaporLakes/data/LAKEBYLAKE/MERRA2_2D/MINIMAL/2015_09_17_21_lat3p507N.M2_min2D_distance.nc\n",
      "/Users/brianmapes/Box/VaporLakes/data/LAKEBYLAKE/MERRA2_2D/MINIMAL//TIMELEVELS/2015_09_17_21/\n",
      "/Users/brianmapes/Box/VaporLakes/data/LAKEBYLAKE/MERRA2_2D/MINIMAL/2017_02_27_22_lat8p004S.M2_min2D_distance.nc\n",
      "/Users/brianmapes/Box/VaporLakes/data/LAKEBYLAKE/MERRA2_2D/MINIMAL//TIMELEVELS/2017_02_27_22/\n",
      "/Users/brianmapes/Box/VaporLakes/data/LAKEBYLAKE/MERRA2_2D/MINIMAL/2017_04_29_11_lat7p001S.M2_min2D_distance.nc\n",
      "/Users/brianmapes/Box/VaporLakes/data/LAKEBYLAKE/MERRA2_2D/MINIMAL//TIMELEVELS/2017_04_29_11/\n",
      "/Users/brianmapes/Box/VaporLakes/data/LAKEBYLAKE/MERRA2_2D/MINIMAL/2016_04_29_17_lat1p821N.M2_min2D_distance.nc\n",
      "/Users/brianmapes/Box/VaporLakes/data/LAKEBYLAKE/MERRA2_2D/MINIMAL//TIMELEVELS/2016_04_29_17/\n",
      "/Users/brianmapes/Box/VaporLakes/data/LAKEBYLAKE/MERRA2_2D/MINIMAL/2016_05_01_00_lat6p733S.M2_min2D_distance.nc\n",
      "/Users/brianmapes/Box/VaporLakes/data/LAKEBYLAKE/MERRA2_2D/MINIMAL//TIMELEVELS/2016_05_01_00/\n",
      "/Users/brianmapes/Box/VaporLakes/data/LAKEBYLAKE/MERRA2_2D/MINIMAL/2016_05_02_05_lat1p551S.M2_min2D_distance.nc\n",
      "/Users/brianmapes/Box/VaporLakes/data/LAKEBYLAKE/MERRA2_2D/MINIMAL//TIMELEVELS/2016_05_02_05/\n",
      "/Users/brianmapes/Box/VaporLakes/data/LAKEBYLAKE/MERRA2_2D/MINIMAL/2015_05_05_07_lat6p890S.M2_min2D_distance.nc\n",
      "/Users/brianmapes/Box/VaporLakes/data/LAKEBYLAKE/MERRA2_2D/MINIMAL//TIMELEVELS/2015_05_05_07/\n",
      "/Users/brianmapes/Box/VaporLakes/data/LAKEBYLAKE/MERRA2_2D/MINIMAL/2018_11_20_11_lat4p616S.M2_min2D_distance.nc\n",
      "/Users/brianmapes/Box/VaporLakes/data/LAKEBYLAKE/MERRA2_2D/MINIMAL//TIMELEVELS/2018_11_20_11/\n",
      "/Users/brianmapes/Box/VaporLakes/data/LAKEBYLAKE/MERRA2_2D/MINIMAL/2017_04_29_11_lat0p732S.M2_min2D_distance.nc\n",
      "/Users/brianmapes/Box/VaporLakes/data/LAKEBYLAKE/MERRA2_2D/MINIMAL//TIMELEVELS/2017_04_29_11/\n",
      "/Users/brianmapes/Box/VaporLakes/data/LAKEBYLAKE/MERRA2_2D/MINIMAL/2015_05_05_21_lat0p238S.M2_min2D_distance.nc\n",
      "/Users/brianmapes/Box/VaporLakes/data/LAKEBYLAKE/MERRA2_2D/MINIMAL//TIMELEVELS/2015_05_05_21/\n",
      "/Users/brianmapes/Box/VaporLakes/data/LAKEBYLAKE/MERRA2_2D/MINIMAL/2017_05_08_05_lat1p160N.M2_min2D_distance.nc\n",
      "/Users/brianmapes/Box/VaporLakes/data/LAKEBYLAKE/MERRA2_2D/MINIMAL//TIMELEVELS/2017_05_08_05/\n",
      "/Users/brianmapes/Box/VaporLakes/data/LAKEBYLAKE/MERRA2_2D/MINIMAL/2016_04_10_23_lat8p819S.M2_min2D_distance.nc\n",
      "/Users/brianmapes/Box/VaporLakes/data/LAKEBYLAKE/MERRA2_2D/MINIMAL//TIMELEVELS/2016_04_10_23/\n",
      "/Users/brianmapes/Box/VaporLakes/data/LAKEBYLAKE/MERRA2_2D/MINIMAL/2017_01_07_14_lat6p991S.M2_min2D_distance.nc\n",
      "/Users/brianmapes/Box/VaporLakes/data/LAKEBYLAKE/MERRA2_2D/MINIMAL//TIMELEVELS/2017_01_07_14/\n",
      "/Users/brianmapes/Box/VaporLakes/data/LAKEBYLAKE/MERRA2_2D/MINIMAL/2015_05_05_01_lat0p460S.M2_min2D_distance.nc\n",
      "/Users/brianmapes/Box/VaporLakes/data/LAKEBYLAKE/MERRA2_2D/MINIMAL//TIMELEVELS/2015_05_05_01/\n",
      "/Users/brianmapes/Box/VaporLakes/data/LAKEBYLAKE/MERRA2_2D/MINIMAL/2015_03_21_17_lat5p987N.M2_min2D_distance.nc\n",
      "/Users/brianmapes/Box/VaporLakes/data/LAKEBYLAKE/MERRA2_2D/MINIMAL//TIMELEVELS/2015_03_21_17/\n",
      "/Users/brianmapes/Box/VaporLakes/data/LAKEBYLAKE/MERRA2_2D/MINIMAL/2015_04_30_17_lat4p330S.M2_min2D_distance.nc\n",
      "/Users/brianmapes/Box/VaporLakes/data/LAKEBYLAKE/MERRA2_2D/MINIMAL//TIMELEVELS/2015_04_30_17/\n",
      "/Users/brianmapes/Box/VaporLakes/data/LAKEBYLAKE/MERRA2_2D/MINIMAL/2017_12_01_11_lat9p845S.M2_min2D_distance.nc\n",
      "/Users/brianmapes/Box/VaporLakes/data/LAKEBYLAKE/MERRA2_2D/MINIMAL//TIMELEVELS/2017_12_01_11/\n",
      "/Users/brianmapes/Box/VaporLakes/data/LAKEBYLAKE/MERRA2_2D/MINIMAL/2015_05_01_21_lat7p053N.M2_min2D_distance.nc\n",
      "/Users/brianmapes/Box/VaporLakes/data/LAKEBYLAKE/MERRA2_2D/MINIMAL//TIMELEVELS/2015_05_01_21/\n",
      "/Users/brianmapes/Box/VaporLakes/data/LAKEBYLAKE/MERRA2_2D/MINIMAL/2015_05_07_03_lat6p414S.M2_min2D_distance.nc\n",
      "/Users/brianmapes/Box/VaporLakes/data/LAKEBYLAKE/MERRA2_2D/MINIMAL//TIMELEVELS/2015_05_07_03/\n",
      "/Users/brianmapes/Box/VaporLakes/data/LAKEBYLAKE/MERRA2_2D/MINIMAL/2017_05_28_11_lat5p291S.M2_min2D_distance.nc\n",
      "/Users/brianmapes/Box/VaporLakes/data/LAKEBYLAKE/MERRA2_2D/MINIMAL//TIMELEVELS/2017_05_28_11/\n",
      "/Users/brianmapes/Box/VaporLakes/data/LAKEBYLAKE/MERRA2_2D/MINIMAL/2017_05_06_20_lat3p790S.M2_min2D_distance.nc\n",
      "/Users/brianmapes/Box/VaporLakes/data/LAKEBYLAKE/MERRA2_2D/MINIMAL//TIMELEVELS/2017_05_06_20/\n",
      "/Users/brianmapes/Box/VaporLakes/data/LAKEBYLAKE/MERRA2_2D/MINIMAL/2018_11_16_21_lat8p412S.M2_min2D_distance.nc\n",
      "/Users/brianmapes/Box/VaporLakes/data/LAKEBYLAKE/MERRA2_2D/MINIMAL//TIMELEVELS/2018_11_16_21/\n",
      "/Users/brianmapes/Box/VaporLakes/data/LAKEBYLAKE/MERRA2_2D/MINIMAL/2017_02_28_21_lat8p115S.M2_min2D_distance.nc\n",
      "/Users/brianmapes/Box/VaporLakes/data/LAKEBYLAKE/MERRA2_2D/MINIMAL//TIMELEVELS/2017_02_28_21/\n",
      "/Users/brianmapes/Box/VaporLakes/data/LAKEBYLAKE/MERRA2_2D/MINIMAL/2015_04_29_21_lat5p196N.M2_min2D_distance.nc\n",
      "/Users/brianmapes/Box/VaporLakes/data/LAKEBYLAKE/MERRA2_2D/MINIMAL//TIMELEVELS/2015_04_29_21/\n",
      "/Users/brianmapes/Box/VaporLakes/data/LAKEBYLAKE/MERRA2_2D/MINIMAL/2018_10_22_15_lat9p781N.M2_min2D_distance.nc\n",
      "/Users/brianmapes/Box/VaporLakes/data/LAKEBYLAKE/MERRA2_2D/MINIMAL//TIMELEVELS/2018_10_22_15/\n",
      "/Users/brianmapes/Box/VaporLakes/data/LAKEBYLAKE/MERRA2_2D/MINIMAL/2015_05_01_17_lat2p027N.M2_min2D_distance.nc\n",
      "/Users/brianmapes/Box/VaporLakes/data/LAKEBYLAKE/MERRA2_2D/MINIMAL//TIMELEVELS/2015_05_01_17/\n",
      "/Users/brianmapes/Box/VaporLakes/data/LAKEBYLAKE/MERRA2_2D/MINIMAL/2017_05_09_01_lat3p355S.M2_min2D_distance.nc\n",
      "/Users/brianmapes/Box/VaporLakes/data/LAKEBYLAKE/MERRA2_2D/MINIMAL//TIMELEVELS/2017_05_09_01/\n",
      "/Users/brianmapes/Box/VaporLakes/data/LAKEBYLAKE/MERRA2_2D/MINIMAL/2014_04_12_21_lat5p095N.M2_min2D_distance.nc\n",
      "/Users/brianmapes/Box/VaporLakes/data/LAKEBYLAKE/MERRA2_2D/MINIMAL//TIMELEVELS/2014_04_12_21/\n",
      "/Users/brianmapes/Box/VaporLakes/data/LAKEBYLAKE/MERRA2_2D/MINIMAL/2015_05_06_21_lat5p111N.M2_min2D_distance.nc\n",
      "/Users/brianmapes/Box/VaporLakes/data/LAKEBYLAKE/MERRA2_2D/MINIMAL//TIMELEVELS/2015_05_06_21/\n",
      "/Users/brianmapes/Box/VaporLakes/data/LAKEBYLAKE/MERRA2_2D/MINIMAL/2014_04_19_22_lat7p255S.M2_min2D_distance.nc\n",
      "/Users/brianmapes/Box/VaporLakes/data/LAKEBYLAKE/MERRA2_2D/MINIMAL//TIMELEVELS/2014_04_19_22/\n",
      "/Users/brianmapes/Box/VaporLakes/data/LAKEBYLAKE/MERRA2_2D/MINIMAL/2016_04_15_08_lat5p477S.M2_min2D_distance.nc\n",
      "/Users/brianmapes/Box/VaporLakes/data/LAKEBYLAKE/MERRA2_2D/MINIMAL//TIMELEVELS/2016_04_15_08/\n"
     ]
    }
   ],
   "source": [
    "# Make directories for the outputs \n",
    "\n",
    "for ifile in range( len(files) ):  \n",
    "    file = files[ifile] # replace with a loop to do all the MERRA2_MINIMAL data files\n",
    "    print(file)\n",
    "    \n",
    "# folder to put results in: make it if it doesn't exist\n",
    "    path = file[0:67]+'/TIMELEVELS/'\n",
    "    os.makedirs(path, exist_ok=True)\n",
    "    datestr = file[67:80]\n",
    "    pathpath = file[0:67]+'/TIMELEVELS/'+datestr+'/'\n",
    "    os.makedirs(pathpath, exist_ok=True)\n",
    "    print(pathpath)"
   ]
  },
  {
   "cell_type": "code",
   "execution_count": 5,
   "id": "fc4d5a81-7721-402b-b731-595a3206cec6",
   "metadata": {},
   "outputs": [
    {
     "data": {
      "text/plain": [
       "'/Users/brianmapes/Box/VaporLakes/data/LAKEBYLAKE/MERRA2_2D/MINIMAL/TIMELEVELS/'"
      ]
     },
     "execution_count": 5,
     "metadata": {},
     "output_type": "execute_result"
    }
   ],
   "source": [
    "file = files[0]\n",
    "path = file[0:67]+\"TIMELEVELS/\"\n",
    "os.makedirs(path, exist_ok=True)\n",
    "path"
   ]
  },
  {
   "cell_type": "code",
   "execution_count": null,
   "id": "cd4ef818-3594-40b0-8e3c-74139dc0ee93",
   "metadata": {},
   "outputs": [],
   "source": [
    "# CRS warnings are annoying below, I might suppress all just for readability\n",
    "\n",
    "import warnings\n",
    "warnings.filterwarnings(\"ignore\")"
   ]
  },
  {
   "cell_type": "markdown",
   "id": "9b915fec-e721-4896-a825-41a4e62812ad",
   "metadata": {},
   "source": [
    "# A function to return a GeoDataFrame of polygons "
   ]
  },
  {
   "cell_type": "code",
   "execution_count": 6,
   "id": "6c0eb40c-a10d-424e-aaee-09cb7531c9fb",
   "metadata": {},
   "outputs": [],
   "source": [
    "# loop over contour collections (and polygons in each collection)\n",
    "# store in polylist  \n",
    "def gdf_from_contours(lon,lat,tqv,conlevel):\n",
    "    \n",
    "    levels = [conlevel, 9e9] # needs a second level for some reason, infinity\n",
    "    cs = plt.contourf(lon,lat,tqv,levels) \n",
    "# create lookup table for levels\n",
    "    lvl_lookup = dict(zip(cs.collections, cs.levels))\n",
    "    \n",
    "    zvalues, polylist  = [], []\n",
    "    i=0 # initialize a counter \n",
    "    \n",
    "    for col in cs.collections:\n",
    "        z=lvl_lookup[col] # the value of the contour isopleth\n",
    "        for contour_path in col.get_paths():\n",
    "#        print('contour path: ',i)\n",
    "\n",
    "        # create the multipolygon for this value of the field\n",
    "            for ncp,cp in enumerate(contour_path.to_polygons()):\n",
    "#            print('   ncp: ', ncp)\n",
    "                lons = np.array(cp)[:,0]\n",
    "                lats = np.array(cp)[:,1]\n",
    "                new_shape = geometry.Polygon([(i[0], i[1]) for i in zip(lons,lats)])            \n",
    "                if ncp == 0:\n",
    "                    poly = new_shape # first shape\n",
    "                else:\n",
    "                    poly = poly.difference(new_shape) # Remove the holes\n",
    "\n",
    "            polylist.append(poly)\n",
    "            zvalues.append(z)\n",
    "            gdf = gp.GeoDataFrame(geometry=polylist)\n",
    "            gdf['tqv_values']=zvalues\n",
    "        \n",
    "    return(gdf)"
   ]
  },
  {
   "cell_type": "markdown",
   "id": "f62998ef-fc6e-430e-9025-38adb6316df9",
   "metadata": {},
   "source": [
    "------------\n",
    "\n",
    "# Open each dataset in xarray, and loop over all times in it"
   ]
  },
  {
   "cell_type": "code",
   "execution_count": 8,
   "id": "702695d7-4283-4ce3-a61d-9a46abdaf92c",
   "metadata": {},
   "outputs": [],
   "source": [
    "MINSIZE = 5 # square degrees, smallest area lake (closed contour at an instant) to process "
   ]
  },
  {
   "cell_type": "code",
   "execution_count": 38,
   "id": "7c849522-ca03-41c2-9187-4b00af67162a",
   "metadata": {},
   "outputs": [
    {
     "data": {
      "text/html": [
       "<div>\n",
       "<style scoped>\n",
       "    .dataframe tbody tr th:only-of-type {\n",
       "        vertical-align: middle;\n",
       "    }\n",
       "\n",
       "    .dataframe tbody tr th {\n",
       "        vertical-align: top;\n",
       "    }\n",
       "\n",
       "    .dataframe thead th {\n",
       "        text-align: right;\n",
       "    }\n",
       "</style>\n",
       "<table border=\"1\" class=\"dataframe\">\n",
       "  <thead>\n",
       "    <tr style=\"text-align: right;\">\n",
       "      <th></th>\n",
       "      <th>geometry</th>\n",
       "      <th>tqv_values</th>\n",
       "      <th>perimeter</th>\n",
       "      <th>area</th>\n",
       "      <th>centroidlat</th>\n",
       "      <th>centroidlon</th>\n",
       "      <th>centriod_is_inside</th>\n",
       "      <th>maxlon</th>\n",
       "      <th>minlon</th>\n",
       "      <th>maxlat</th>\n",
       "      <th>minlat</th>\n",
       "      <th>contournum</th>\n",
       "    </tr>\n",
       "  </thead>\n",
       "  <tbody>\n",
       "    <tr>\n",
       "      <th>5</th>\n",
       "      <td>POLYGON ((33.12686 5.20384, 33.75186 5.14526, ...</td>\n",
       "      <td>55.0</td>\n",
       "      <td>4.286774</td>\n",
       "      <td>0.97846</td>\n",
       "      <td>5.461308</td>\n",
       "      <td>33.676237</td>\n",
       "      <td>True</td>\n",
       "      <td>34.48817</td>\n",
       "      <td>32.669924</td>\n",
       "      <td>5.878804</td>\n",
       "      <td>5.036612</td>\n",
       "      <td>5</td>\n",
       "    </tr>\n",
       "  </tbody>\n",
       "</table>\n",
       "</div>"
      ],
      "text/plain": [
       "                                            geometry  tqv_values  perimeter  \\\n",
       "5  POLYGON ((33.12686 5.20384, 33.75186 5.14526, ...        55.0   4.286774   \n",
       "\n",
       "      area  centroidlat  centroidlon  centriod_is_inside    maxlon     minlon  \\\n",
       "5  0.97846     5.461308    33.676237                True  34.48817  32.669924   \n",
       "\n",
       "     maxlat    minlat  contournum  \n",
       "5  5.878804  5.036612           5  "
      ]
     },
     "execution_count": 38,
     "metadata": {},
     "output_type": "execute_result"
    }
   ],
   "source": [
    "lake = gp.GeoDataFrame(single_row_df, geometry='geometry').set_crs(epsg = \"4256\", inplace = True)            \n",
    "lake"
   ]
  },
  {
   "cell_type": "code",
   "execution_count": 42,
   "id": "b0e940e2-800c-46c1-8c38-5537299b6ae1",
   "metadata": {
    "tags": []
   },
   "outputs": [
    {
     "name": "stdout",
     "output_type": "stream",
     "text": [
      "0 /Users/brianmapes/Box/VaporLakes/data/LAKEBYLAKE/MERRA2_2D/MINIMAL/2015_03_21_09_lat5p130N.M2_min2D_distance.nc\n",
      "time:  0\n",
      "out of bounds or too small  0\n",
      "out of bounds or too small  1\n"
     ]
    },
    {
     "name": "stderr",
     "output_type": "stream",
     "text": [
      "/var/folders/v9/8pr92c8s0m14426rc7jfm2c80000gn/T/ipykernel_66124/2266438907.py:41: UserWarning: Geometry is in a geographic CRS. Results from 'area' are likely incorrect. Use 'GeoSeries.to_crs()' to re-project geometries to a projected CRS before this operation.\n",
      "\n",
      "  if( (inbounds.values[0] == True) & (lake.area.values[0] > MINSIZE) ):\n",
      "/var/folders/v9/8pr92c8s0m14426rc7jfm2c80000gn/T/ipykernel_66124/2266438907.py:41: UserWarning: Geometry is in a geographic CRS. Results from 'area' are likely incorrect. Use 'GeoSeries.to_crs()' to re-project geometries to a projected CRS before this operation.\n",
      "\n",
      "  if( (inbounds.values[0] == True) & (lake.area.values[0] > MINSIZE) ):\n",
      "/var/folders/v9/8pr92c8s0m14426rc7jfm2c80000gn/T/ipykernel_66124/2266438907.py:41: UserWarning: Geometry is in a geographic CRS. Results from 'area' are likely incorrect. Use 'GeoSeries.to_crs()' to re-project geometries to a projected CRS before this operation.\n",
      "\n",
      "  if( (inbounds.values[0] == True) & (lake.area.values[0] > MINSIZE) ):\n",
      "/var/folders/v9/8pr92c8s0m14426rc7jfm2c80000gn/T/ipykernel_66124/2266438907.py:42: UserWarning: Geometry is in a geographic CRS. Results from 'length' are likely incorrect. Use 'GeoSeries.to_crs()' to re-project geometries to a projected CRS before this operation.\n",
      "\n",
      "  lake['perimeter']=lake.geometry.length\n",
      "/var/folders/v9/8pr92c8s0m14426rc7jfm2c80000gn/T/ipykernel_66124/2266438907.py:43: UserWarning: Geometry is in a geographic CRS. Results from 'area' are likely incorrect. Use 'GeoSeries.to_crs()' to re-project geometries to a projected CRS before this operation.\n",
      "\n",
      "  lake['area']=lake.geometry.area\n",
      "/var/folders/v9/8pr92c8s0m14426rc7jfm2c80000gn/T/ipykernel_66124/2266438907.py:44: UserWarning: Geometry is in a geographic CRS. Results from 'centroid' are likely incorrect. Use 'GeoSeries.to_crs()' to re-project geometries to a projected CRS before this operation.\n",
      "\n",
      "  lake['centroidlat']=lake.geometry.centroid.y\n",
      "/var/folders/v9/8pr92c8s0m14426rc7jfm2c80000gn/T/ipykernel_66124/2266438907.py:45: UserWarning: Geometry is in a geographic CRS. Results from 'centroid' are likely incorrect. Use 'GeoSeries.to_crs()' to re-project geometries to a projected CRS before this operation.\n",
      "\n",
      "  lake['centroidlon']=lake.geometry.centroid.x\n",
      "/var/folders/v9/8pr92c8s0m14426rc7jfm2c80000gn/T/ipykernel_66124/2266438907.py:46: UserWarning: Geometry is in a geographic CRS. Results from 'centroid' are likely incorrect. Use 'GeoSeries.to_crs()' to re-project geometries to a projected CRS before this operation.\n",
      "\n",
      "  lake['centriod_is_inside']= lake.geometry.contains(lake.geometry.centroid)\n",
      "/Users/brianmapes/opt/miniconda3/envs/geopy/lib/python3.10/site-packages/geopandas/base.py:31: UserWarning: The indices of the two GeoSeries are different.\n",
      "  warn(\"The indices of the two GeoSeries are different.\")\n",
      "/var/folders/v9/8pr92c8s0m14426rc7jfm2c80000gn/T/ipykernel_66124/2266438907.py:55: UserWarning: Geometry is in a geographic CRS. Results from 'distance' are likely incorrect. Use 'GeoSeries.to_crs()' to re-project geometries to a projected CRS before this operation.\n",
      "\n",
      "  dist = points.distance(lake.geometry.boundary).values.reshape(len(ds.lat),len(ds.lon))\n",
      "/Users/brianmapes/opt/miniconda3/envs/geopy/lib/python3.10/site-packages/geopandas/base.py:31: UserWarning: The indices of the two GeoSeries are different.\n",
      "  warn(\"The indices of the two GeoSeries are different.\")\n"
     ]
    },
    {
     "name": "stdout",
     "output_type": "stream",
     "text": [
      "ds = ds.assign(distance2=(['lat','lon'],dist))\n",
      "ds = ds.assign(dir_to2=(['lat','lon'],dir_to))\n",
      "out of bounds or too small  3\n",
      "out of bounds or too small  4\n"
     ]
    },
    {
     "name": "stderr",
     "output_type": "stream",
     "text": [
      "/var/folders/v9/8pr92c8s0m14426rc7jfm2c80000gn/T/ipykernel_66124/2266438907.py:41: UserWarning: Geometry is in a geographic CRS. Results from 'area' are likely incorrect. Use 'GeoSeries.to_crs()' to re-project geometries to a projected CRS before this operation.\n",
      "\n",
      "  if( (inbounds.values[0] == True) & (lake.area.values[0] > MINSIZE) ):\n",
      "/var/folders/v9/8pr92c8s0m14426rc7jfm2c80000gn/T/ipykernel_66124/2266438907.py:41: UserWarning: Geometry is in a geographic CRS. Results from 'area' are likely incorrect. Use 'GeoSeries.to_crs()' to re-project geometries to a projected CRS before this operation.\n",
      "\n",
      "  if( (inbounds.values[0] == True) & (lake.area.values[0] > MINSIZE) ):\n"
     ]
    },
    {
     "data": {
      "image/png": "[encoded data removed]",
      "text/plain": [
       "<Figure size 432x288 with 1 Axes>"
      ]
     },
     "metadata": {
      "needs_background": "light"
     },
     "output_type": "display_data"
    }
   ],
   "source": [
    "all_gdflakes = [] # collect them all in one big set of single closed contours (\"lakes\") \n",
    "\n",
    "for nfile,ifile in enumerate( range( 1)): #len(files) ) ):  \n",
    "    file = files[ifile] # replace with a loop to do all the MERRA2_MINIMAL data files\n",
    "    print(nfile, file)\n",
    "    \n",
    "# folder to put results in: make it if it doesn't exist\n",
    "    path = file[0:67]+\"/TIMELEVELS/\"\n",
    "    os.makedirs(path, exist_ok=True)\n",
    "    datestr = file[67:80]\n",
    "    pathpath = file[0:67]+\"/TIMELEVELS/\"+datestr+'/'\n",
    "    os.makedirs(pathpath, exist_ok=True)\n",
    "\n",
    "    bigds = xr.open_dataset(file)\n",
    "    \n",
    "    # Make an array of Points that are the gridpoints of MERRA2 in this file\n",
    "    lat2d = bigds.lat.values[:,None]   + bigds.lon.values*0\n",
    "    lon2d = bigds.lat.values[:,None]*0 + bigds.lon.values\n",
    "    points = gp.GeoSeries( [Point(x, y) for x, y in zip(lon2d.ravel(),lat2d.ravel()) ] )\\\n",
    "            .set_crs(epsg = \"4256\", inplace = True)\n",
    "     \n",
    "# TIME LOOP OVER ALL TIMES: SLICE OFF ds DATASET - 2D ONLY\n",
    "    for itime in range(1): #len(bigds.time)): \n",
    "        print('time: ',itime)\n",
    "        ds = bigds.isel(time=itime).drop_vars(['distance','dir_from_centroid'])\n",
    "        gdf = gdf_from_contours(ds.lon,ds.lat,ds.tqv, 55.)\n",
    "        \n",
    "# Iterate over rows in the GeoDataFrame\n",
    "        for i, row in gdf.iterrows():\n",
    "    # Create a DataFrame containing the current row\n",
    "            single_row_df = gdf.iloc[[i]]\n",
    "    \n",
    "    # Convert the DataFrame back to a GeoDataFrame\n",
    "            lake = gp.GeoDataFrame(single_row_df, geometry='geometry').set_crs(epsg = \"4256\", inplace = True)            \n",
    "            \n",
    "            # don't count it if the contour touches the edge of the dataset\n",
    "            inbounds = \\\n",
    "                (lake.geometry.bounds.minx > ds.lon.min().values) & (lake.geometry.bounds.maxx < ds.lon.max().values) & \\\n",
    "                (lake.geometry.bounds.miny > ds.lat.min().values) & (lake.geometry.bounds.maxy < ds.lat.max().values)\n",
    "            \n",
    "            if( (inbounds.values[0] == True) & (lake.area.values[0] > MINSIZE) ): \n",
    "                lake['perimeter']=lake.geometry.length\n",
    "                lake['area']=lake.geometry.area\n",
    "                lake['centroidlat']=lake.geometry.centroid.y\n",
    "                lake['centroidlon']=lake.geometry.centroid.x\n",
    "                lake['centriod_is_inside']= lake.geometry.contains(lake.geometry.centroid)\n",
    "                lake['maxlon']=lake.geometry.bounds.maxx\n",
    "                lake['minlon']=lake.geometry.bounds.minx\n",
    "                lake['maxlat']=lake.geometry.bounds.maxy\n",
    "                lake['minlat']=lake.geometry.bounds.miny\n",
    "                lake['contournum']= i\n",
    "                ## gdf_1.geometry.apply(lambda g: gdf_2.distance(g))\n",
    "\n",
    "            # Compute distance field from perimiter:\n",
    "                dist = lake.geometry.apply(lambda g: points.distance(g)).values.reshape(len(ds.lat),len(ds.lon))\n",
    "                # points.distance(lake.geometry.boundary).values.reshape(len(ds.lat),len(ds.lon))\n",
    "                isin = points.within(lake.geometry).values.reshape(len(ds.lat),len(ds.lon))\n",
    "                dist *= (-2)*(isin-0.5)  # make SIGNED distance from boundary, positive is exterior \n",
    "\n",
    "# Direction to centroid of WHOLE LAKE at this time\n",
    "                centlon = lake.centroidlon\n",
    "                centlat = lake.centroidlat \n",
    "# use j in explicit loop over gridpoints, since geodesic takes scalar only. Inelegant but works. \n",
    "                dir_to = []\n",
    "                for j in range(len(lon2d.ravel())): \n",
    "                    fwd_az,back_az,d = geodesic.inv(lon2d.ravel()[j], lat2d.ravel()[j], [centlon], [centlat])\n",
    "                    dir_to.append(fwd_az+180)\n",
    "                \n",
    "                dist_to = np.array(dist).reshape(len(ds.lat),len(ds.lon))\n",
    "                dir_to = np.array(dir_to).reshape(len(ds.lat),len(ds.lon))\n",
    "        \n",
    "                command = \"ds = ds.assign(distance\"+str(i)+\"=(['lat','lon'],dist))\"\n",
    "                print(command)\n",
    "                exec(command)\n",
    "                command = \"ds = ds.assign(dir_to\"+str(i)+\"=(['lat','lon'],dir_to))\"\n",
    "                print(command)\n",
    "                exec(command)\n",
    "                lake['filename'] = datestr+'_time'+str(itime)+'_distdirs.nc'\n",
    "                all_gdflakes.append(lake) # giant list of all lakes at all times in all files \n",
    "            else: \n",
    "                print('out of bounds or too small ',i)\n",
    "                \n",
    "        # Output all the distance and dir_to for this time level for this dataset     \n",
    "        #ds.to_netcdf(pathpath+datestr+'_time'+str(itime)+'_distdirs.nc')\n",
    "        #ds.close()\n",
    "        #print('Writing netCDF, all_gdflakes is up to ', len(all_gdflakes))\n"
   ]
  },
  {
   "cell_type": "code",
   "execution_count": 64,
   "id": "82ac1060-6704-40f0-88e1-7ea8ce940298",
   "metadata": {},
   "outputs": [
    {
     "data": {
      "text/plain": [
       "<matplotlib.collections.QuadMesh at 0x176e74340>"
      ]
     },
     "execution_count": 64,
     "metadata": {},
     "output_type": "execute_result"
    },
    {
     "data": {
      "image/png": "[encoded data removed]",
      "text/plain": [
       "<Figure size 432x288 with 2 Axes>"
      ]
     },
     "metadata": {
      "needs_background": "light"
     },
     "output_type": "display_data"
    }
   ],
   "source": [
    "ds.dir_to2.plot()"
   ]
  },
  {
   "cell_type": "code",
   "execution_count": 52,
   "id": "f7c8e9b2-853c-4b69-97d3-11496fd7cde4",
   "metadata": {},
   "outputs": [
    {
     "name": "stderr",
     "output_type": "stream",
     "text": [
      "/var/folders/v9/8pr92c8s0m14426rc7jfm2c80000gn/T/ipykernel_66124/547892943.py:2: UserWarning: Geometry is in a geographic CRS. Results from 'distance' are likely incorrect. Use 'GeoSeries.to_crs()' to re-project geometries to a projected CRS before this operation.\n",
      "\n",
      "  dist = lake.geometry.apply(lambda g: points.distance(g)).values.reshape(len(ds.lat),len(ds.lon))\n",
      "/Users/brianmapes/opt/miniconda3/envs/geopy/lib/python3.10/site-packages/geopandas/base.py:31: UserWarning: The indices of the two GeoSeries are different.\n",
      "  warn(\"The indices of the two GeoSeries are different.\")\n"
     ]
    }
   ],
   "source": [
    "                # Compute distance field from perimiter:\n",
    "                dist = lake.geometry.apply(lambda g: points.distance(g)).values.reshape(len(ds.lat),len(ds.lon))\n",
    "                # points.distance(lake.geometry.boundary).values.reshape(len(ds.lat),len(ds.lon))\n",
    "                isin = points.within(lake.geometry).values.reshape(len(ds.lat),len(ds.lon))\n",
    "                dist *= (-2)*(isin-0.5)  # make SIGNED distance from boundary, positive is exterior "
   ]
  },
  {
   "cell_type": "code",
   "execution_count": 57,
   "id": "3ab51005-c581-45a8-aecd-e3c73bb93a32",
   "metadata": {},
   "outputs": [
    {
     "data": {
      "text/plain": [
       "0.0"
      ]
     },
     "execution_count": 57,
     "metadata": {},
     "output_type": "execute_result"
    },
    {
     "data": {
      "image/png": "[encoded data removed]",
      "text/plain": [
       "<Figure size 432x288 with 1 Axes>"
      ]
     },
     "metadata": {
      "needs_background": "light"
     },
     "output_type": "display_data"
    }
   ],
   "source": [
    "plt.plot(dist);\n",
    "np.min(dist)"
   ]
  },
  {
   "cell_type": "code",
   "execution_count": null,
   "id": "9a01bdae-03e5-4e38-b8bd-bf9001348c84",
   "metadata": {},
   "outputs": [],
   "source": [
    "        ds = bigds.isel(time=itime).drop_vars(['distance','dir_from_centroid'])\n",
    "        ds"
   ]
  },
  {
   "cell_type": "code",
   "execution_count": null,
   "id": "17222e09-6449-4f28-8feb-77c5aea9390a",
   "metadata": {},
   "outputs": [],
   "source": [
    "# Iterate over rows in the GeoDataFrame\n",
    "        for i, row in gdf.iterrows():\n",
    "    # Create a DataFrame containing the current row\n",
    "            single_row_df = gdf.iloc[[i]]\n",
    "    \n",
    "    # Convert the DataFrame back to a GeoDataFrame\n",
    "            lake = gp.GeoDataFrame(single_row_df, geometry='geometry')            \n",
    "            lake['perimeter']=lake.geometry.length\n",
    "            lake['area']=lake.geometry.area\n",
    "            lake['centroidlat']=lake.geometry.centroid.y\n",
    "            lake['centroidlon']=lake.geometry.centroid.x\n",
    "            lake['centriod_is_inside']= lake.geometry.contains(lake.geometry.centroid)\n",
    "            lake['maxlon']=lake.geometry.bounds.maxx\n",
    "            lake['minlon']=lake.geometry.bounds.minx\n",
    "            lake['maxlat']=lake.geometry.bounds.maxy\n",
    "            lake['minlat']=lake.geometry.bounds.miny\n",
    "            lake['contournum']= i\n",
    "            \n",
    "            # don't count it if the contour touches the edge of the dataset\n",
    "            inbounds = \\\n",
    "                (lake.minlon > ds.lon.min().values) & (lake.maxlon < ds.lon.max().values) & \\\n",
    "                (lake.minlat > ds.lat.min().values) & (lake.maxlat < ds.lat.max().values)\n",
    "            if( (inbounds.values[0] == True) ): \n",
    "\n",
    "            # Compute distance field from perimiter:\n",
    "                dist = points.distance(lake.geometry.boundary).values.reshape(len(ds.lat),len(ds.lon))\n",
    "                isin = points.within(lake.geometry).values.reshape(len(ds.lat),len(ds.lon))\n",
    "                dist *= (-2)*(isin-0.5)  # make SIGNED distance from boundary, positive is exterior \n",
    "\n",
    "# Direction to centroid of WHOLE LAKE at this time\n",
    "                centlon = lake.centroidlon\n",
    "                centlat = lake.centroidlat \n",
    "# use j in explicit loop over gridpoints, since geodesic takes scalar only. Inelegant but works. \n",
    "                dir_to = []\n",
    "                for j in range(len(lon2d.ravel())): \n",
    "                    fwd_az,back_az,d = geodesic.inv(lon2d.ravel()[j], lat2d.ravel()[j], [centlon], [centlat])\n",
    "                    dir_to.append(fwd_az+180)\n",
    "                \n",
    "                dist_to = np.array(dist).reshape(len(ds.lat),len(ds.lon))\n",
    "                dir_to = np.array(dir_to).reshape(len(ds.lat),len(ds.lon))\n",
    "        \n",
    "                command = \"ds = ds.assign(distance\"+str(i)+\"=(['lat','lon'],dist))\"\n",
    "                print(command)\n",
    "                exec(command)\n",
    "                command = \"ds = ds.assign(dir_to\"+str(i)+\"=(['lat','lon'],dir_to))\"\n",
    "                print(command)\n",
    "                exec(command)\n",
    "                lake['filename'] = datestr+'_time'+str(itime)+'_distdirs.nc'\n",
    "                all_gdflakes.append(lake) # giant list of all lakes at all times in all files \n",
    "            else: \n",
    "                print('out of bounds ',i)\n",
    "                "
   ]
  },
  {
   "cell_type": "code",
   "execution_count": null,
   "id": "c35cf982-95e2-466a-a732-681ac5a924a6",
   "metadata": {},
   "outputs": [],
   "source": [
    "gdf.distance(points[0])"
   ]
  },
  {
   "cell_type": "code",
   "execution_count": null,
   "id": "185042fb-f639-4d0c-8d78-0b6d37c28cfc",
   "metadata": {},
   "outputs": [],
   "source": []
  },
  {
   "cell_type": "code",
   "execution_count": null,
   "id": "c40f9e6f-1f74-4014-a5c7-f46f19162a30",
   "metadata": {},
   "outputs": [],
   "source": [
    "gp.GeoDataFrame(single_row_df, geometry='geometry').geometry"
   ]
  },
  {
   "cell_type": "code",
   "execution_count": null,
   "id": "be107b85-4c64-4a8b-96e3-97e858845142",
   "metadata": {},
   "outputs": [],
   "source": [
    "lake =gdf.iloc[[5]]\n",
    "\n",
    "lake.plot()"
   ]
  },
  {
   "cell_type": "code",
   "execution_count": null,
   "id": "f7d47b62-3df9-4383-b720-b603c93e8851",
   "metadata": {},
   "outputs": [],
   "source": [
    "points.plot()"
   ]
  },
  {
   "cell_type": "code",
   "execution_count": null,
   "id": "460d239a-82d4-4d00-8ccd-618346b99543",
   "metadata": {},
   "outputs": [],
   "source": [
    "# Check and set CRS if necessary\n",
    "lake = lake.set_crs(gpoints.crs)\n",
    "print(gpoints.crs)\n",
    "print(lake.crs)"
   ]
  },
  {
   "cell_type": "code",
   "execution_count": null,
   "id": "7310309c-77e6-4c85-82f7-acc53276b644",
   "metadata": {},
   "outputs": [],
   "source": [
    "print(points[0])  # Print the geometry of the 5th point"
   ]
  },
  {
   "cell_type": "code",
   "execution_count": null,
   "id": "ecb38a10-b25c-4dc9-bc8d-c6efee890f36",
   "metadata": {},
   "outputs": [],
   "source": [
    "lake.distance( points[5] )"
   ]
  },
  {
   "cell_type": "code",
   "execution_count": null,
   "id": "a4886743-2016-4882-ae56-45e66ccf54ed",
   "metadata": {},
   "outputs": [],
   "source": [
    "lake.distance( points[0] )"
   ]
  },
  {
   "cell_type": "code",
   "execution_count": null,
   "id": "c1361d09-f2a8-4b8b-9227-ffdca85feb27",
   "metadata": {},
   "outputs": [],
   "source": [
    "lake.distance( lake.centroid )"
   ]
  },
  {
   "cell_type": "code",
   "execution_count": null,
   "id": "a5cf15c7-ac5f-4c86-96b3-428857e4de0a",
   "metadata": {},
   "outputs": [],
   "source": [
    "lake.distance(gpoints)"
   ]
  },
  {
   "cell_type": "code",
   "execution_count": null,
   "id": "16b434e8-894e-4250-9b62-e097ae6392ca",
   "metadata": {},
   "outputs": [],
   "source": [
    "dists = []\n",
    "for n in range(len(points)): \n",
    "    dists.append( lake.distance( points[n] ) )"
   ]
  },
  {
   "cell_type": "code",
   "execution_count": null,
   "id": "ad2f5305-8e7b-4cd8-bcf3-68fb544ea658",
   "metadata": {},
   "outputs": [],
   "source": [
    "plt.plot(dists)"
   ]
  },
  {
   "cell_type": "code",
   "execution_count": null,
   "id": "ddb5911a-7c16-4871-b2d5-afb2a4ae70cf",
   "metadata": {},
   "outputs": [],
   "source": [
    "points[1:10].plot()"
   ]
  },
  {
   "cell_type": "code",
   "execution_count": null,
   "id": "d7710cbc-a7ab-4a7b-aceb-b005cd8ac7fa",
   "metadata": {},
   "outputs": [],
   "source": [
    "lake.centroid"
   ]
  },
  {
   "cell_type": "code",
   "execution_count": null,
   "id": "18b0ec8d-8379-48a9-8a99-a3af53da541b",
   "metadata": {},
   "outputs": [],
   "source": [
    "print(gpoints.geom_type.head())  # Check the geometry types in gpoints\n",
    "print(lake.geom_type)  # Check the geometry types in lake"
   ]
  },
  {
   "cell_type": "code",
   "execution_count": null,
   "id": "2636136d-e94a-43d2-8f60-f019b5e8e0ae",
   "metadata": {},
   "outputs": [],
   "source": []
  },
  {
   "cell_type": "code",
   "execution_count": null,
   "id": "c4b4a2a7-72c3-4a7a-8fcd-852f9be59b38",
   "metadata": {},
   "outputs": [],
   "source": []
  },
  {
   "cell_type": "code",
   "execution_count": null,
   "id": "a8e5cc60-fb9d-4ddd-ab92-bcb89c26fcb3",
   "metadata": {},
   "outputs": [],
   "source": [
    "print(gpoints.geometry.is_valid.all())\n",
    "print(lake.geometry.is_valid.all())"
   ]
  },
  {
   "cell_type": "code",
   "execution_count": null,
   "id": "2e80cf42-9fee-4b41-a24e-11a9ec6b5eda",
   "metadata": {},
   "outputs": [],
   "source": [
    "gpoints.geometry = gpoints.geometry.buffer(0)\n",
    "lake.geometry = lake.geometry.buffer(0)"
   ]
  },
  {
   "cell_type": "code",
   "execution_count": null,
   "id": "7c78240c-6c23-4b40-accd-c87f59e13fb7",
   "metadata": {},
   "outputs": [],
   "source": [
    "# Calculate distances for points inside the lake (distance to the exterior boundary)\n",
    "distances_inside = gpoints.geometry.distance(lake.geometry)\n",
    "\n",
    "# Create a new GeoDataFrame for points outside the lake\n",
    "points_outside = gpoints[~gpoints.index.isin(distances_inside.index)]\n",
    "\n",
    "# Calculate distances for points outside the lake (distance to the nearest point on the boundary)\n",
    "distances_outside = points_outside.geometry.apply(lambda x: lake.geometry.distance(x))\n",
    "\n",
    "# Combine distances from inside and outside points\n",
    "all_distances = distances_inside.append(distances_outside)\n",
    "all_distances"
   ]
  },
  {
   "cell_type": "code",
   "execution_count": null,
   "id": "35d97a78-76ba-4736-9e84-15b1fbfa5f65",
   "metadata": {},
   "outputs": [],
   "source": [
    "gpoints.geometry = gpoints.geometry.buffer(0)\n",
    "lake.geometry = lake.geometry.buffer(0)"
   ]
  },
  {
   "cell_type": "code",
   "execution_count": null,
   "id": "80a93347-3bc8-40ab-876c-55ff0c62949a",
   "metadata": {},
   "outputs": [],
   "source": [
    "gdf"
   ]
  },
  {
   "cell_type": "code",
   "execution_count": null,
   "id": "3609503d-dd83-47fa-becf-87511c362bfb",
   "metadata": {},
   "outputs": [],
   "source": [
    "gdf.iloc[[5]].plot()"
   ]
  },
  {
   "cell_type": "code",
   "execution_count": null,
   "id": "52a3c476-142c-489e-902f-2e72f4036cd3",
   "metadata": {},
   "outputs": [],
   "source": [
    "gdf.plot()"
   ]
  },
  {
   "cell_type": "code",
   "execution_count": null,
   "id": "681f95c1-bbd0-4d05-a1d2-7b80ea545952",
   "metadata": {},
   "outputs": [],
   "source": [
    "gdf.explode()"
   ]
  },
  {
   "cell_type": "code",
   "execution_count": null,
   "id": "e31715f6-39ca-4f35-9363-1b9871d066b5",
   "metadata": {},
   "outputs": [],
   "source": []
  },
  {
   "cell_type": "code",
   "execution_count": null,
   "id": "51f26071-c644-4709-b63d-3bc76676ba20",
   "metadata": {},
   "outputs": [],
   "source": []
  },
  {
   "cell_type": "code",
   "execution_count": null,
   "id": "814eef1a-10e7-429d-997b-57fe3ecee1f0",
   "metadata": {},
   "outputs": [],
   "source": []
  },
  {
   "cell_type": "code",
   "execution_count": null,
   "id": "09522c2c-77a3-4d32-88ce-a6e271ad99ec",
   "metadata": {},
   "outputs": [],
   "source": []
  },
  {
   "cell_type": "code",
   "execution_count": null,
   "id": "09cd99b9-0543-4c6f-a525-d7b0e98ef4b6",
   "metadata": {},
   "outputs": [],
   "source": []
  },
  {
   "cell_type": "code",
   "execution_count": null,
   "id": "7dd159b4-c44b-4995-95fe-bfa7168d9b0c",
   "metadata": {},
   "outputs": [],
   "source": []
  },
  {
   "cell_type": "code",
   "execution_count": null,
   "id": "7ccc391a-cccb-4f0a-bb3d-bcacdeba14e7",
   "metadata": {},
   "outputs": [],
   "source": []
  },
  {
   "cell_type": "code",
   "execution_count": null,
   "id": "9c807e0c-bac2-423d-8581-d145954c3668",
   "metadata": {},
   "outputs": [],
   "source": [
    "len(all_gdflakes)"
   ]
  },
  {
   "cell_type": "code",
   "execution_count": null,
   "id": "f9ce35a1-a552-4b24-8c74-9a46cea7c12b",
   "metadata": {},
   "outputs": [],
   "source": [
    "all_laks = pd.concat(all_gdflakes)"
   ]
  },
  {
   "cell_type": "code",
   "execution_count": null,
   "id": "4b722dda-f006-4b4a-aaa9-d9eaa5959495",
   "metadata": {},
   "outputs": [],
   "source": [
    "all_laks.describe()"
   ]
  },
  {
   "cell_type": "code",
   "execution_count": null,
   "id": "1e3fcd80-439f-4712-8d12-7dc46853d0b9",
   "metadata": {},
   "outputs": [],
   "source": [
    "# write geojson of lakes at this time into one file -- no need really \n",
    "\n",
    "with open('/Users/brianmapes/Box/VaporLakes/data/LAKEBYLAKE/MERRA2_2D/MINIMAL/AllLakeContours_2014-2018.geojson', 'w') as f:\n",
    "    f.write(all_laks.to_json())\n",
    "\n",
    "f.close()\n",
    " "
   ]
  },
  {
   "cell_type": "code",
   "execution_count": null,
   "id": "2a033cff-3363-4861-b559-815690d75fb6",
   "metadata": {},
   "outputs": [],
   "source": [
    "all_laks"
   ]
  },
  {
   "cell_type": "code",
   "execution_count": null,
   "id": "0568c60c-c264-4e9e-8e7a-f866606aa6b5",
   "metadata": {},
   "outputs": [],
   "source": [
    "df = all_laks"
   ]
  },
  {
   "cell_type": "markdown",
   "id": "b64b8d0c-e032-41c4-a953-3d40c86c143f",
   "metadata": {},
   "source": [
    "-------------\n",
    "# Composite rain by distance from contour for selected ones"
   ]
  },
  {
   "cell_type": "code",
   "execution_count": null,
   "id": "8ab13981-a298-48f1-bb1a-9e52cc383f1a",
   "metadata": {},
   "outputs": [],
   "source": [
    "df = gp.read_file('/Users/brianmapes/Box/VaporLakes/data/LAKEBYLAKE/MERRA2_2D/MINIMAL/AllLakeContours_2014-2018.geojson')"
   ]
  },
  {
   "cell_type": "code",
   "execution_count": null,
   "id": "c0fe8167-9349-4068-9b32-c9d774b85acb",
   "metadata": {},
   "outputs": [],
   "source": [
    "df.contournum.describe()"
   ]
  },
  {
   "cell_type": "code",
   "execution_count": null,
   "id": "308578b9-d914-475f-a3d4-ffdea060a3bc",
   "metadata": {},
   "outputs": [],
   "source": [
    "# Big ones with short perimeters\n",
    "bigrounds = df[(df.area > 300) & (df.perimeter < 200)]"
   ]
  },
  {
   "cell_type": "code",
   "execution_count": null,
   "id": "a926ac08-d4dc-47f6-8f58-698c5c126871",
   "metadata": {},
   "outputs": [],
   "source": [
    "bigrounds.area.values"
   ]
  },
  {
   "cell_type": "code",
   "execution_count": null,
   "id": "1a177c63-7ff0-492b-b583-954bbea48e10",
   "metadata": {},
   "outputs": [],
   "source": [
    "bigrounds.geometry.values[0]"
   ]
  },
  {
   "cell_type": "code",
   "execution_count": null,
   "id": "f264f5ac-cbc8-4a6a-a3e1-7398fa11cff0",
   "metadata": {},
   "outputs": [],
   "source": [
    "bigrounds.contournum"
   ]
  },
  {
   "cell_type": "code",
   "execution_count": null,
   "id": "61bbc7f7-42f5-4f4c-bb0e-1b33df2096f0",
   "metadata": {},
   "outputs": [],
   "source": [
    "bigrounds.filename.values[0]"
   ]
  },
  {
   "cell_type": "code",
   "execution_count": null,
   "id": "09f50feb-d397-489e-ae73-f428a9a93e03",
   "metadata": {},
   "outputs": [],
   "source": [
    "fi = '/Users/brianmapes/Box/VaporLakes/data/LAKEBYLAKE/MERRA2_2D/MINIMAL/TIMELEVELS/'+\\\n",
    "    bigrounds.filename.values[0][0:13]+'/'+bigrounds.filename.values[0]\n",
    "fi"
   ]
  },
  {
   "cell_type": "markdown",
   "id": "cb47e4d7-817a-4052-b7d3-288faf582cf1",
   "metadata": {},
   "source": [
    "### "
   ]
  },
  {
   "cell_type": "code",
   "execution_count": null,
   "id": "ca0ec53e-550a-4ac9-9d36-73994519adc5",
   "metadata": {},
   "outputs": [],
   "source": [
    "ds = xr.open_dataset(fi)\n",
    "ds"
   ]
  },
  {
   "cell_type": "code",
   "execution_count": null,
   "id": "aed944ec-181d-47c8-ade6-392039537980",
   "metadata": {},
   "outputs": [],
   "source": [
    "ds.distance6.plot()"
   ]
  },
  {
   "cell_type": "code",
   "execution_count": null,
   "id": "e0be614a-f7e0-4456-a049-15e07de06c01",
   "metadata": {},
   "outputs": [],
   "source": [
    "# The big one is distance1, with the largest (negative) minimum\n",
    "ds.distance14.min()"
   ]
  },
  {
   "cell_type": "code",
   "execution_count": null,
   "id": "870a56db-c2a3-464c-b732-3adc5e551b63",
   "metadata": {},
   "outputs": [],
   "source": [
    "ds.groupby_bins('distance1', bins=np.arange(-5.0, 10.0, 0.1)).mean()"
   ]
  },
  {
   "cell_type": "code",
   "execution_count": null,
   "id": "886cf1f5-ae7d-4018-8520-cf2428976987",
   "metadata": {},
   "outputs": [],
   "source": [
    "(ds.groupby_bins('distance1', bins=np.arange(-5.0, 10.0, 0.1)).mean().prectot*86400.).plot() # mm/d\n",
    "(ds.groupby_bins('distance1', bins=np.arange(-5.0, 10.0, 0.1)).mean().tqv -40).plot() # inches\n",
    "plt.title('PW-40 (mm) and MERRA2 prectot (mm/d) '+bigrounds.filename.values[0])"
   ]
  },
  {
   "cell_type": "code",
   "execution_count": null,
   "id": "95176713-3f20-4da7-98fa-3737fc77f63b",
   "metadata": {},
   "outputs": [],
   "source": []
  },
  {
   "cell_type": "code",
   "execution_count": null,
   "id": "bdf869b7-e031-4d1f-a02a-3828b157ecd3",
   "metadata": {},
   "outputs": [],
   "source": []
  },
  {
   "cell_type": "code",
   "execution_count": null,
   "id": "479fec90-07e7-4c44-9a2f-86569d0e8fa4",
   "metadata": {},
   "outputs": [],
   "source": []
  },
  {
   "cell_type": "code",
   "execution_count": null,
   "id": "728d5659-c553-43f3-9a60-6eeae21c94d8",
   "metadata": {},
   "outputs": [],
   "source": []
  },
  {
   "cell_type": "code",
   "execution_count": null,
   "id": "bf6b69f6-aa9c-4dd4-acfa-aaaa6a3d35af",
   "metadata": {},
   "outputs": [],
   "source": [
    "# From Snigdha \n",
    "\n",
    "def process_one_time_slice(ds_t):\n",
    "    # Check if all values in 'distance0' are NaN\n",
    "    if np.all(np.isnan(ds_t['distance0'])):\n",
    "        return None  # Return None if all values are NaN\n",
    "    \n",
    "    # Group the data by distance bins, ranging from -2 to 4 with intervals of 0.1\n",
    "    ds_grouped_t = ds_t.groupby_bins('distance0', bins=np.arange(-2.0, 4.0, 0.1))\n",
    "    \n",
    "    # Initialize a list to hold individual binned DataArrays\n",
    "    binned_data_list = []\n",
    "    bin_names = []\n",
    "    # Loop through each distance bin group\n",
    "    for name, group in ds_grouped_t:\n",
    "        # Use the bin name as a coordinate\n",
    "        group['binned_distance'] = str(name)\n",
    "        \n",
    "        # Append the group to the list\n",
    "        binned_data_list.append(group)\n",
    "        bin_names.append(str(name))\n",
    "    \n",
    "    # Concatenate along a new dimension 'binned_distance'\n",
    "    ds_reduced_t = xr.concat(binned_data_list, dim=xr.DataArray(bin_names, name='binned_distance', dims='binned_distance'))\n",
    "  \n",
    "    # Return the reduced dataset for this time slice\n",
    "    return ds_reduced_t"
   ]
  },
  {
   "cell_type": "code",
   "execution_count": null,
   "id": "df1e9d41-7295-46f4-8b14-b657cb65fbff",
   "metadata": {},
   "outputs": [],
   "source": []
  },
  {
   "cell_type": "code",
   "execution_count": null,
   "id": "ddcdf6ad-c15b-4779-99ab-39f48e2c6888",
   "metadata": {},
   "outputs": [],
   "source": []
  },
  {
   "cell_type": "code",
   "execution_count": null,
   "id": "602cd667-4e9c-4cef-9ae6-51842ed0f1b3",
   "metadata": {},
   "outputs": [],
   "source": []
  },
  {
   "cell_type": "code",
   "execution_count": null,
   "id": "3db1bdd4-ee43-4f43-bd85-e0f112269176",
   "metadata": {},
   "outputs": [],
   "source": []
  },
  {
   "cell_type": "code",
   "execution_count": null,
   "id": "55b58a6d-f858-46e8-8031-6d55fd50e969",
   "metadata": {},
   "outputs": [],
   "source": []
  }
 ],
 "metadata": {
  "kernelspec": {
   "display_name": "Python 3 (ipykernel)",
   "language": "python",
   "name": "python3"
  },
  "language_info": {
   "codemirror_mode": {
    "name": "ipython",
    "version": 3
   },
   "file_extension": ".py",
   "mimetype": "text/x-python",
   "name": "python",
   "nbconvert_exporter": "python",
   "pygments_lexer": "ipython3",
   "version": "3.10.2"
  }
 },
 "nbformat": 4,
 "nbformat_minor": 5
}
