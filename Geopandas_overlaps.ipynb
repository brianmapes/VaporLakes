{
 "cells": [
  {
   "cell_type": "markdown",
   "id": "8078acf8-b47b-4952-b78a-d6f06d983099",
   "metadata": {},
   "source": [
    "# Testing GeoPandas overlaps from two times"
   ]
  },
  {
   "cell_type": "code",
   "execution_count": 2,
   "id": "b3b32e0b-fe52-43b5-977c-56966c8e2f21",
   "metadata": {},
   "outputs": [],
   "source": [
    "from shapely import geometry\n",
    "import matplotlib.pyplot as plt\n",
    "from matplotlib import cm\n",
    "import numpy as np\n",
    "import fiona             # a read-write library for shapefiles\n",
    "import os,json           # json just a convenient way to dump some numbers (contour levels)\n",
    "#from descartes.patch import PolygonPatch\n",
    "\n",
    "from glob import glob\n",
    "import xarray as xr\n",
    "#import dask.array as da\n",
    "\n",
    "import geopandas as gp"
   ]
  },
  {
   "cell_type": "markdown",
   "id": "2de3ab26-05ec-4806-a92d-3364d5b72d96",
   "metadata": {},
   "source": [
    "# A function to return a GeoDataFrame of polygons "
   ]
  },
  {
   "cell_type": "code",
   "execution_count": 120,
   "id": "bb5faa73-5211-4643-bd44-9ad0d52c7d70",
   "metadata": {},
   "outputs": [],
   "source": [
    "# loop over contour collections (and polygons in each collection)\n",
    "# store in polylist  \n",
    "def gdf_from_contours(lon,lat,tqv,conlevel):\n",
    "    \n",
    "    levels = [conlevel, 9e9]\n",
    "    cs = plt.contourf(lon,lat,tqv,levels)\n",
    "# create lookup table for levels\n",
    "    lvl_lookup = dict(zip(cs.collections, cs.levels))\n",
    "    \n",
    "    zvalues, polylist  = [], []\n",
    "#    i=0\n",
    "    for col in cs.collections:\n",
    "        z=lvl_lookup[col] # the value of this level\n",
    "        for contour_path in col.get_paths():\n",
    "#        print('contour path: ',i); i = i+1\n",
    "        # create the polygon for this level\n",
    "            for ncp,cp in enumerate(contour_path.to_polygons()):\n",
    "#            print('   ncp: ', ncp)\n",
    "                lons = np.array(cp)[:,0]\n",
    "                lats = np.array(cp)[:,1]\n",
    "                new_shape = geometry.Polygon([(i[0], i[1]) for i in zip(lons,lats)])            \n",
    "                if ncp == 0:\n",
    "                    poly = new_shape # first shape\n",
    "                else:\n",
    "                    poly = poly.difference(new_shape) # Remove the holes\n",
    "\n",
    "            polylist.append(poly)\n",
    "            zvalues.append(z)\n",
    "        \n",
    "        gdf = gp.GeoDataFrame(geometry=polylist)\n",
    "        gdf['tqv_values']=zvalues\n",
    "        gdf['area']=gdf.area\n",
    "        return(gdf)"
   ]
  },
  {
   "cell_type": "markdown",
   "id": "fd99e608-d873-462c-8423-d3ead387d46f",
   "metadata": {},
   "source": [
    "# Open the virtual (time series) dataset in xarray "
   ]
  },
  {
   "cell_type": "code",
   "execution_count": 121,
   "id": "2e7fe25a-4678-410d-ad3f-ac2c2b3ee7ac",
   "metadata": {},
   "outputs": [],
   "source": [
    "files = glob('MERRA2*.nc') #+glob('*2015*')+glob('*2016*')+glob('*2017*')+glob('*2018*') # selecting 2014-2018\n",
    "cwv_data = xr.open_mfdataset(files) # merging data files in one\n",
    "cwv_WEIO = cwv_data.sel(lat=slice(-30,30),lon=slice(30,90))"
   ]
  },
  {
   "cell_type": "markdown",
   "id": "78fafb64-c4b9-4120-a1b3-a7cf6f5118d8",
   "metadata": {},
   "source": [
    "# Grab the later (destined) time level "
   ]
  },
  {
   "cell_type": "code",
   "execution_count": 122,
   "id": "6f1adce2-696b-40d1-9679-b4ae05c806da",
   "metadata": {
    "tags": []
   },
   "outputs": [
    {
     "data": {
      "text/html": [
       "<div>\n",
       "<style scoped>\n",
       "    .dataframe tbody tr th:only-of-type {\n",
       "        vertical-align: middle;\n",
       "    }\n",
       "\n",
       "    .dataframe tbody tr th {\n",
       "        vertical-align: top;\n",
       "    }\n",
       "\n",
       "    .dataframe thead th {\n",
       "        text-align: right;\n",
       "    }\n",
       "</style>\n",
       "<table border=\"1\" class=\"dataframe\">\n",
       "  <thead>\n",
       "    <tr style=\"text-align: right;\">\n",
       "      <th></th>\n",
       "      <th>geometry</th>\n",
       "      <th>tqv_values</th>\n",
       "      <th>area</th>\n",
       "    </tr>\n",
       "  </thead>\n",
       "  <tbody>\n",
       "    <tr>\n",
       "      <th>0</th>\n",
       "      <td>POLYGON ((58.75000 -10.51604, 58.77544 -10.500...</td>\n",
       "      <td>55.0</td>\n",
       "      <td>42.595260</td>\n",
       "    </tr>\n",
       "    <tr>\n",
       "      <th>1</th>\n",
       "      <td>POLYGON ((88.75000 -9.87128, 88.16430 -9.50000...</td>\n",
       "      <td>55.0</td>\n",
       "      <td>258.886779</td>\n",
       "    </tr>\n",
       "    <tr>\n",
       "      <th>2</th>\n",
       "      <td>POLYGON ((61.87500 -8.04756, 61.98258 -8.00000...</td>\n",
       "      <td>55.0</td>\n",
       "      <td>0.036614</td>\n",
       "    </tr>\n",
       "    <tr>\n",
       "      <th>3</th>\n",
       "      <td>POLYGON ((62.50000 -4.05860, 62.57154 -4.00000...</td>\n",
       "      <td>55.0</td>\n",
       "      <td>0.706446</td>\n",
       "    </tr>\n",
       "    <tr>\n",
       "      <th>4</th>\n",
       "      <td>POLYGON ((53.12500 -1.14258, 53.15765 -1.00000...</td>\n",
       "      <td>55.0</td>\n",
       "      <td>0.813496</td>\n",
       "    </tr>\n",
       "    <tr>\n",
       "      <th>5</th>\n",
       "      <td>POLYGON ((65.62500 2.48853, 65.69610 2.50000, ...</td>\n",
       "      <td>55.0</td>\n",
       "      <td>0.001901</td>\n",
       "    </tr>\n",
       "    <tr>\n",
       "      <th>6</th>\n",
       "      <td>POLYGON ((71.25000 4.45331, 71.87500 4.29712, ...</td>\n",
       "      <td>55.0</td>\n",
       "      <td>0.978947</td>\n",
       "    </tr>\n",
       "    <tr>\n",
       "      <th>7</th>\n",
       "      <td>POLYGON ((56.87500 5.85807, 57.50000 5.96315, ...</td>\n",
       "      <td>55.0</td>\n",
       "      <td>0.549771</td>\n",
       "    </tr>\n",
       "    <tr>\n",
       "      <th>8</th>\n",
       "      <td>POLYGON ((49.37500 6.95115, 50.00000 6.96510, ...</td>\n",
       "      <td>55.0</td>\n",
       "      <td>0.208567</td>\n",
       "    </tr>\n",
       "    <tr>\n",
       "      <th>9</th>\n",
       "      <td>POLYGON ((33.75000 7.47262, 33.80174 7.50000, ...</td>\n",
       "      <td>55.0</td>\n",
       "      <td>0.813457</td>\n",
       "    </tr>\n",
       "    <tr>\n",
       "      <th>10</th>\n",
       "      <td>POLYGON ((50.62500 8.00917, 51.25000 8.02246, ...</td>\n",
       "      <td>55.0</td>\n",
       "      <td>2.915173</td>\n",
       "    </tr>\n",
       "    <tr>\n",
       "      <th>11</th>\n",
       "      <td>POLYGON ((79.37500 9.59237, 79.90248 10.00000,...</td>\n",
       "      <td>55.0</td>\n",
       "      <td>1.165763</td>\n",
       "    </tr>\n",
       "    <tr>\n",
       "      <th>12</th>\n",
       "      <td>POLYGON ((43.12500 12.69231, 43.50872 13.00000...</td>\n",
       "      <td>55.0</td>\n",
       "      <td>0.388675</td>\n",
       "    </tr>\n",
       "  </tbody>\n",
       "</table>\n",
       "</div>"
      ],
      "text/plain": [
       "                                             geometry  tqv_values        area\n",
       "0   POLYGON ((58.75000 -10.51604, 58.77544 -10.500...        55.0   42.595260\n",
       "1   POLYGON ((88.75000 -9.87128, 88.16430 -9.50000...        55.0  258.886779\n",
       "2   POLYGON ((61.87500 -8.04756, 61.98258 -8.00000...        55.0    0.036614\n",
       "3   POLYGON ((62.50000 -4.05860, 62.57154 -4.00000...        55.0    0.706446\n",
       "4   POLYGON ((53.12500 -1.14258, 53.15765 -1.00000...        55.0    0.813496\n",
       "5   POLYGON ((65.62500 2.48853, 65.69610 2.50000, ...        55.0    0.001901\n",
       "6   POLYGON ((71.25000 4.45331, 71.87500 4.29712, ...        55.0    0.978947\n",
       "7   POLYGON ((56.87500 5.85807, 57.50000 5.96315, ...        55.0    0.549771\n",
       "8   POLYGON ((49.37500 6.95115, 50.00000 6.96510, ...        55.0    0.208567\n",
       "9   POLYGON ((33.75000 7.47262, 33.80174 7.50000, ...        55.0    0.813457\n",
       "10  POLYGON ((50.62500 8.00917, 51.25000 8.02246, ...        55.0    2.915173\n",
       "11  POLYGON ((79.37500 9.59237, 79.90248 10.00000,...        55.0    1.165763\n",
       "12  POLYGON ((43.12500 12.69231, 43.50872 13.00000...        55.0    0.388675"
      ]
     },
     "execution_count": 122,
     "metadata": {},
     "output_type": "execute_result"
    },
    {
     "data": {
      "image/png": "[encoded data removed]",
      "text/plain": [
       "<Figure size 432x288 with 1 Axes>"
      ]
     },
     "metadata": {
      "needs_background": "light"
     },
     "output_type": "display_data"
    }
   ],
   "source": [
    "lon = cwv_WEIO.lon\n",
    "lat = cwv_WEIO.lat\n",
    "tqv = cwv_WEIO.TQV[3].values\n",
    "\n",
    "gdf_destined = gdf_from_contours(lon,lat,tqv,55.)\n",
    "gdf_destined"
   ]
  },
  {
   "cell_type": "code",
   "execution_count": 123,
   "id": "0b12efe0-d53f-42a2-be8a-0d173f283370",
   "metadata": {},
   "outputs": [
    {
     "data": {
      "text/html": [
       "<div>\n",
       "<style scoped>\n",
       "    .dataframe tbody tr th:only-of-type {\n",
       "        vertical-align: middle;\n",
       "    }\n",
       "\n",
       "    .dataframe tbody tr th {\n",
       "        vertical-align: top;\n",
       "    }\n",
       "\n",
       "    .dataframe thead th {\n",
       "        text-align: right;\n",
       "    }\n",
       "</style>\n",
       "<table border=\"1\" class=\"dataframe\">\n",
       "  <thead>\n",
       "    <tr style=\"text-align: right;\">\n",
       "      <th></th>\n",
       "      <th>geometry</th>\n",
       "      <th>tqv_values</th>\n",
       "      <th>area</th>\n",
       "    </tr>\n",
       "  </thead>\n",
       "  <tbody>\n",
       "    <tr>\n",
       "      <th>0</th>\n",
       "      <td>POLYGON ((89.64387 -11.50000, 89.37500 -11.387...</td>\n",
       "      <td>55.0</td>\n",
       "      <td>187.356451</td>\n",
       "    </tr>\n",
       "    <tr>\n",
       "      <th>1</th>\n",
       "      <td>POLYGON ((53.12500 -10.56109, 53.47156 -10.500...</td>\n",
       "      <td>55.0</td>\n",
       "      <td>1.269263</td>\n",
       "    </tr>\n",
       "    <tr>\n",
       "      <th>2</th>\n",
       "      <td>POLYGON ((53.75000 -8.70070, 54.22038 -8.50000...</td>\n",
       "      <td>55.0</td>\n",
       "      <td>14.351828</td>\n",
       "    </tr>\n",
       "    <tr>\n",
       "      <th>3</th>\n",
       "      <td>POLYGON ((59.37500 -7.72917, 59.70920 -7.50000...</td>\n",
       "      <td>55.0</td>\n",
       "      <td>10.741246</td>\n",
       "    </tr>\n",
       "    <tr>\n",
       "      <th>4</th>\n",
       "      <td>POLYGON ((56.25000 -4.56165, 56.87500 -4.89642...</td>\n",
       "      <td>55.0</td>\n",
       "      <td>1.522988</td>\n",
       "    </tr>\n",
       "    <tr>\n",
       "      <th>5</th>\n",
       "      <td>POLYGON ((55.00000 -4.18653, 55.32342 -4.00000...</td>\n",
       "      <td>55.0</td>\n",
       "      <td>0.428718</td>\n",
       "    </tr>\n",
       "    <tr>\n",
       "      <th>6</th>\n",
       "      <td>POLYGON ((64.37500 -3.14660, 64.93152 -3.00000...</td>\n",
       "      <td>55.0</td>\n",
       "      <td>0.105836</td>\n",
       "    </tr>\n",
       "    <tr>\n",
       "      <th>7</th>\n",
       "      <td>POLYGON ((65.00000 1.92670, 65.62500 1.71592, ...</td>\n",
       "      <td>55.0</td>\n",
       "      <td>2.643069</td>\n",
       "    </tr>\n",
       "    <tr>\n",
       "      <th>8</th>\n",
       "      <td>POLYGON ((54.37500 3.42998, 55.00000 3.12328, ...</td>\n",
       "      <td>55.0</td>\n",
       "      <td>19.917211</td>\n",
       "    </tr>\n",
       "    <tr>\n",
       "      <th>9</th>\n",
       "      <td>POLYGON ((30.62500 3.96007, 30.72201 4.00000, ...</td>\n",
       "      <td>55.0</td>\n",
       "      <td>0.004781</td>\n",
       "    </tr>\n",
       "    <tr>\n",
       "      <th>10</th>\n",
       "      <td>POLYGON ((63.12500 3.75125, 63.38016 4.00000, ...</td>\n",
       "      <td>55.0</td>\n",
       "      <td>0.567182</td>\n",
       "    </tr>\n",
       "    <tr>\n",
       "      <th>11</th>\n",
       "      <td>POLYGON ((73.75000 4.43699, 74.15225 4.50000, ...</td>\n",
       "      <td>55.0</td>\n",
       "      <td>0.131918</td>\n",
       "    </tr>\n",
       "    <tr>\n",
       "      <th>12</th>\n",
       "      <td>POLYGON ((58.75000 7.38439, 59.02398 7.50000, ...</td>\n",
       "      <td>55.0</td>\n",
       "      <td>0.137031</td>\n",
       "    </tr>\n",
       "    <tr>\n",
       "      <th>13</th>\n",
       "      <td>POLYGON ((79.37500 9.39082, 79.51906 9.50000, ...</td>\n",
       "      <td>55.0</td>\n",
       "      <td>0.516623</td>\n",
       "    </tr>\n",
       "  </tbody>\n",
       "</table>\n",
       "</div>"
      ],
      "text/plain": [
       "                                             geometry  tqv_values        area\n",
       "0   POLYGON ((89.64387 -11.50000, 89.37500 -11.387...        55.0  187.356451\n",
       "1   POLYGON ((53.12500 -10.56109, 53.47156 -10.500...        55.0    1.269263\n",
       "2   POLYGON ((53.75000 -8.70070, 54.22038 -8.50000...        55.0   14.351828\n",
       "3   POLYGON ((59.37500 -7.72917, 59.70920 -7.50000...        55.0   10.741246\n",
       "4   POLYGON ((56.25000 -4.56165, 56.87500 -4.89642...        55.0    1.522988\n",
       "5   POLYGON ((55.00000 -4.18653, 55.32342 -4.00000...        55.0    0.428718\n",
       "6   POLYGON ((64.37500 -3.14660, 64.93152 -3.00000...        55.0    0.105836\n",
       "7   POLYGON ((65.00000 1.92670, 65.62500 1.71592, ...        55.0    2.643069\n",
       "8   POLYGON ((54.37500 3.42998, 55.00000 3.12328, ...        55.0   19.917211\n",
       "9   POLYGON ((30.62500 3.96007, 30.72201 4.00000, ...        55.0    0.004781\n",
       "10  POLYGON ((63.12500 3.75125, 63.38016 4.00000, ...        55.0    0.567182\n",
       "11  POLYGON ((73.75000 4.43699, 74.15225 4.50000, ...        55.0    0.131918\n",
       "12  POLYGON ((58.75000 7.38439, 59.02398 7.50000, ...        55.0    0.137031\n",
       "13  POLYGON ((79.37500 9.39082, 79.51906 9.50000, ...        55.0    0.516623"
      ]
     },
     "execution_count": 123,
     "metadata": {},
     "output_type": "execute_result"
    },
    {
     "data": {
      "image/png": "[encoded data removed]",
      "text/plain": [
       "<Figure size 432x288 with 1 Axes>"
      ]
     },
     "metadata": {
      "needs_background": "light"
     },
     "output_type": "display_data"
    }
   ],
   "source": [
    "tqv = cwv_WEIO.TQV[23].values\n",
    "\n",
    "gdf_destined = gdf_from_contours(lon,lat,tqv,55.)\n",
    "gdf_destined"
   ]
  },
  {
   "cell_type": "markdown",
   "id": "0b3c9f53-a1d1-4d52-9790-cd469d20268c",
   "metadata": {},
   "source": [
    "# Grab the present time level"
   ]
  },
  {
   "cell_type": "code",
   "execution_count": 124,
   "id": "a3ecade5-a049-4ca2-8966-69a73246139f",
   "metadata": {},
   "outputs": [
    {
     "data": {
      "text/html": [
       "<div>\n",
       "<style scoped>\n",
       "    .dataframe tbody tr th:only-of-type {\n",
       "        vertical-align: middle;\n",
       "    }\n",
       "\n",
       "    .dataframe tbody tr th {\n",
       "        vertical-align: top;\n",
       "    }\n",
       "\n",
       "    .dataframe thead th {\n",
       "        text-align: right;\n",
       "    }\n",
       "</style>\n",
       "<table border=\"1\" class=\"dataframe\">\n",
       "  <thead>\n",
       "    <tr style=\"text-align: right;\">\n",
       "      <th></th>\n",
       "      <th>geometry</th>\n",
       "      <th>tqv_values</th>\n",
       "      <th>area</th>\n",
       "    </tr>\n",
       "  </thead>\n",
       "  <tbody>\n",
       "    <tr>\n",
       "      <th>0</th>\n",
       "      <td>POLYGON ((88.12500 -10.02020, 88.24098 -10.000...</td>\n",
       "      <td>55.0</td>\n",
       "      <td>225.984094</td>\n",
       "    </tr>\n",
       "    <tr>\n",
       "      <th>1</th>\n",
       "      <td>POLYGON ((90.00000 -10.01531, 90.00000 -10.000...</td>\n",
       "      <td>55.0</td>\n",
       "      <td>0.186753</td>\n",
       "    </tr>\n",
       "    <tr>\n",
       "      <th>2</th>\n",
       "      <td>POLYGON ((57.50000 -9.53604, 57.52261 -9.50000...</td>\n",
       "      <td>55.0</td>\n",
       "      <td>0.004809</td>\n",
       "    </tr>\n",
       "    <tr>\n",
       "      <th>3</th>\n",
       "      <td>POLYGON ((56.87500 -9.09116, 57.25765 -9.00000...</td>\n",
       "      <td>55.0</td>\n",
       "      <td>28.002388</td>\n",
       "    </tr>\n",
       "    <tr>\n",
       "      <th>4</th>\n",
       "      <td>POLYGON ((58.75000 -7.15710, 59.37500 -7.25306...</td>\n",
       "      <td>55.0</td>\n",
       "      <td>2.551614</td>\n",
       "    </tr>\n",
       "    <tr>\n",
       "      <th>5</th>\n",
       "      <td>POLYGON ((56.87500 -5.01000, 57.03445 -5.00000...</td>\n",
       "      <td>55.0</td>\n",
       "      <td>0.001473</td>\n",
       "    </tr>\n",
       "    <tr>\n",
       "      <th>6</th>\n",
       "      <td>POLYGON ((68.75000 -0.09805, 68.87256 -0.00000...</td>\n",
       "      <td>55.0</td>\n",
       "      <td>3.462117</td>\n",
       "    </tr>\n",
       "    <tr>\n",
       "      <th>7</th>\n",
       "      <td>POLYGON ((65.62500 1.87057, 66.25000 1.99674, ...</td>\n",
       "      <td>55.0</td>\n",
       "      <td>1.052490</td>\n",
       "    </tr>\n",
       "    <tr>\n",
       "      <th>8</th>\n",
       "      <td>POLYGON ((72.50000 3.93674, 73.12500 3.99034, ...</td>\n",
       "      <td>55.0</td>\n",
       "      <td>2.237743</td>\n",
       "    </tr>\n",
       "    <tr>\n",
       "      <th>9</th>\n",
       "      <td>POLYGON ((31.87500 6.72584, 32.50000 6.85987, ...</td>\n",
       "      <td>55.0</td>\n",
       "      <td>2.494844</td>\n",
       "    </tr>\n",
       "    <tr>\n",
       "      <th>10</th>\n",
       "      <td>POLYGON ((50.00000 6.66252, 50.62500 6.79671, ...</td>\n",
       "      <td>55.0</td>\n",
       "      <td>3.125235</td>\n",
       "    </tr>\n",
       "    <tr>\n",
       "      <th>11</th>\n",
       "      <td>POLYGON ((48.12500 7.57841, 48.15454 8.00000, ...</td>\n",
       "      <td>55.0</td>\n",
       "      <td>0.017998</td>\n",
       "    </tr>\n",
       "    <tr>\n",
       "      <th>12</th>\n",
       "      <td>POLYGON ((78.75000 8.77880, 79.37500 8.66743, ...</td>\n",
       "      <td>55.0</td>\n",
       "      <td>3.989997</td>\n",
       "    </tr>\n",
       "  </tbody>\n",
       "</table>\n",
       "</div>"
      ],
      "text/plain": [
       "                                             geometry  tqv_values        area\n",
       "0   POLYGON ((88.12500 -10.02020, 88.24098 -10.000...        55.0  225.984094\n",
       "1   POLYGON ((90.00000 -10.01531, 90.00000 -10.000...        55.0    0.186753\n",
       "2   POLYGON ((57.50000 -9.53604, 57.52261 -9.50000...        55.0    0.004809\n",
       "3   POLYGON ((56.87500 -9.09116, 57.25765 -9.00000...        55.0   28.002388\n",
       "4   POLYGON ((58.75000 -7.15710, 59.37500 -7.25306...        55.0    2.551614\n",
       "5   POLYGON ((56.87500 -5.01000, 57.03445 -5.00000...        55.0    0.001473\n",
       "6   POLYGON ((68.75000 -0.09805, 68.87256 -0.00000...        55.0    3.462117\n",
       "7   POLYGON ((65.62500 1.87057, 66.25000 1.99674, ...        55.0    1.052490\n",
       "8   POLYGON ((72.50000 3.93674, 73.12500 3.99034, ...        55.0    2.237743\n",
       "9   POLYGON ((31.87500 6.72584, 32.50000 6.85987, ...        55.0    2.494844\n",
       "10  POLYGON ((50.00000 6.66252, 50.62500 6.79671, ...        55.0    3.125235\n",
       "11  POLYGON ((48.12500 7.57841, 48.15454 8.00000, ...        55.0    0.017998\n",
       "12  POLYGON ((78.75000 8.77880, 79.37500 8.66743, ...        55.0    3.989997"
      ]
     },
     "execution_count": 124,
     "metadata": {},
     "output_type": "execute_result"
    },
    {
     "data": {
      "image/png": "[encoded data removed]",
      "text/plain": [
       "<Figure size 432x288 with 1 Axes>"
      ]
     },
     "metadata": {
      "needs_background": "light"
     },
     "output_type": "display_data"
    }
   ],
   "source": [
    "tqv = cwv_WEIO.TQV[10].values\n",
    "gdf_now = gdf_from_contours(lon,lat,tqv,55.)\n",
    "gdf_now"
   ]
  },
  {
   "cell_type": "markdown",
   "id": "0a27cbb2-6323-4f2e-bbb5-f2e9a65fc214",
   "metadata": {},
   "source": [
    "# Some basic plots "
   ]
  },
  {
   "cell_type": "code",
   "execution_count": 125,
   "id": "288c3cd0-0f8c-4f6c-b158-9b086ce760c5",
   "metadata": {
    "tags": []
   },
   "outputs": [
    {
     "data": {
      "text/plain": [
       "<AxesSubplot:>"
      ]
     },
     "execution_count": 125,
     "metadata": {},
     "output_type": "execute_result"
    },
    {
     "data": {
      "image/png": "[encoded data removed]",
      "text/plain": [
       "<Figure size 432x288 with 1 Axes>"
      ]
     },
     "metadata": {
      "needs_background": "light"
     },
     "output_type": "display_data"
    }
   ],
   "source": [
    "#https://geopandas.org/docs/user_guide/mapping.html\n",
    "fig, ax = plt.subplots()\n",
    "ax.set_aspect('equal')\n",
    "ax.set_xlim(30, 93)\n",
    "ax.set_ylim(-20,20)\n",
    "\n",
    "gdf_destined.plot(ax=ax,color='blue', edgecolor='black')\n",
    "gdf_now.boundary.plot(ax=ax, color='red')\n",
    "\n",
    "path = gp.datasets.get_path('naturalearth_lowres')\n",
    "mapdf = gp.read_file(path)\n",
    "mapdf.plot(ax=ax)"
   ]
  },
  {
   "cell_type": "markdown",
   "id": "7a43f9f0-70c5-46e9-ad11-713947342020",
   "metadata": {},
   "source": [
    "# Overlaps at last!! "
   ]
  },
  {
   "cell_type": "code",
   "execution_count": 126,
   "id": "509a669f-7531-486e-94bd-8cf62b7f369c",
   "metadata": {},
   "outputs": [
    {
     "data": {
      "text/plain": [
       "0     POLYGON ((89.64387 -11.50000, 89.37500 -11.387...\n",
       "1     POLYGON ((53.12500 -10.56109, 53.47156 -10.500...\n",
       "2     POLYGON ((53.75000 -8.70070, 54.22038 -8.50000...\n",
       "3     POLYGON ((59.37500 -7.72917, 59.70920 -7.50000...\n",
       "4     POLYGON ((56.25000 -4.56165, 56.87500 -4.89642...\n",
       "5     POLYGON ((55.00000 -4.18653, 55.32342 -4.00000...\n",
       "6     POLYGON ((64.37500 -3.14660, 64.93152 -3.00000...\n",
       "7     POLYGON ((65.00000 1.92670, 65.62500 1.71592, ...\n",
       "8     POLYGON ((54.37500 3.42998, 55.00000 3.12328, ...\n",
       "9     POLYGON ((30.62500 3.96007, 30.72201 4.00000, ...\n",
       "10    POLYGON ((63.12500 3.75125, 63.38016 4.00000, ...\n",
       "11    POLYGON ((73.75000 4.43699, 74.15225 4.50000, ...\n",
       "12    POLYGON ((58.75000 7.38439, 59.02398 7.50000, ...\n",
       "13    POLYGON ((79.37500 9.39082, 79.51906 9.50000, ...\n",
       "Name: geometry, dtype: geometry"
      ]
     },
     "execution_count": 126,
     "metadata": {},
     "output_type": "execute_result"
    }
   ],
   "source": [
    "gdf_destined.geometry"
   ]
  },
  {
   "cell_type": "code",
   "execution_count": 152,
   "id": "9333d648-f392-43ba-9214-afc84c6bb44a",
   "metadata": {},
   "outputs": [
    {
     "data": {
      "text/plain": [
       "(array([0, 2, 3, 3, 6, 7, 8]), array([ 0,  3,  4,  0,  0,  7, 10]))"
      ]
     },
     "execution_count": 152,
     "metadata": {},
     "output_type": "execute_result"
    }
   ],
   "source": [
    "# I tested the order here, destined and now are correct.\n",
    "# but indices arrays are always the same size \n",
    "indices_destined, indices_now = gdf_now[(gdf_now.area>0)].sindex.query_bulk(gdf_destined.geometry, predicate='overlaps') # index numbers of overlaps\n",
    "indices_destined, indices_now"
   ]
  },
  {
   "cell_type": "code",
   "execution_count": 153,
   "id": "020293f3-e528-4cea-b439-9ec1012583e2",
   "metadata": {},
   "outputs": [
    {
     "data": {
      "text/plain": [
       "0     POLYGON ((88.12500 -10.02020, 88.24098 -10.000...\n",
       "1     POLYGON ((90.00000 -10.01531, 90.00000 -10.000...\n",
       "2     POLYGON ((57.50000 -9.53604, 57.52261 -9.50000...\n",
       "3     POLYGON ((56.87500 -9.09116, 57.25765 -9.00000...\n",
       "4     POLYGON ((58.75000 -7.15710, 59.37500 -7.25306...\n",
       "5     POLYGON ((56.87500 -5.01000, 57.03445 -5.00000...\n",
       "6     POLYGON ((68.75000 -0.09805, 68.87256 -0.00000...\n",
       "7     POLYGON ((65.62500 1.87057, 66.25000 1.99674, ...\n",
       "8     POLYGON ((72.50000 3.93674, 73.12500 3.99034, ...\n",
       "9     POLYGON ((31.87500 6.72584, 32.50000 6.85987, ...\n",
       "10    POLYGON ((50.00000 6.66252, 50.62500 6.79671, ...\n",
       "11    POLYGON ((48.12500 7.57841, 48.15454 8.00000, ...\n",
       "12    POLYGON ((78.75000 8.77880, 79.37500 8.66743, ...\n",
       "Name: geometry, dtype: geometry"
      ]
     },
     "execution_count": 153,
     "metadata": {},
     "output_type": "execute_result"
    }
   ],
   "source": [
    "bigboy = gdf_now[(gdf_now.area>0)]\n",
    "bigboy.geometry"
   ]
  },
  {
   "cell_type": "code",
   "execution_count": 154,
   "id": "e9c7f68d-8ffa-40c4-b159-92bb8d5ce564",
   "metadata": {},
   "outputs": [
    {
     "data": {
      "text/plain": [
       "array([[ 0,  0,  0,  3,  4,  7, 10],\n",
       "       [ 3,  6,  0,  2,  3,  7,  8]])"
      ]
     },
     "execution_count": 154,
     "metadata": {},
     "output_type": "execute_result"
    }
   ],
   "source": [
    "gdf_destined.sindex.query_bulk(bigboy.geometry, predicate='overlaps')"
   ]
  },
  {
   "cell_type": "code",
   "execution_count": null,
   "id": "fcdc0474-efe0-4921-8967-515fbf114eb2",
   "metadata": {},
   "outputs": [],
   "source": []
  },
  {
   "cell_type": "code",
   "execution_count": null,
   "id": "465aa6a7-682d-4307-8a17-d0fbf4141db8",
   "metadata": {},
   "outputs": [],
   "source": []
  },
  {
   "cell_type": "code",
   "execution_count": null,
   "id": "af18cfbb-5689-410d-9b23-aa6dacf8d804",
   "metadata": {},
   "outputs": [],
   "source": []
  },
  {
   "cell_type": "code",
   "execution_count": null,
   "id": "bdabc20a-c94c-4a20-9ef3-992fcaea530a",
   "metadata": {},
   "outputs": [],
   "source": []
  }
 ],
 "metadata": {
  "kernelspec": {
   "display_name": "Python 3",
   "language": "python",
   "name": "python3"
  },
  "language_info": {
   "codemirror_mode": {
    "name": "ipython",
    "version": 3
   },
   "file_extension": ".py",
   "mimetype": "text/x-python",
   "name": "python",
   "nbconvert_exporter": "python",
   "pygments_lexer": "ipython3",
   "version": "3.9.4"
  }
 },
 "nbformat": 4,
 "nbformat_minor": 5
}
